{
  "nbformat": 4,
  "nbformat_minor": 0,
  "metadata": {
    "colab": {
      "provenance": []
    },
    "kernelspec": {
      "name": "python3",
      "display_name": "Python 3"
    },
    "language_info": {
      "name": "python"
    }
  },
  "cells": [
    {
      "cell_type": "markdown",
      "source": [
        "PREPARING THE ENVIRONMENT"
      ],
      "metadata": {
        "id": "AYUdZw_EJLFn"
      }
    },
    {
      "cell_type": "code",
      "execution_count": null,
      "metadata": {
        "id": "4vDQQrS9TLIh"
      },
      "outputs": [],
      "source": [
        "%%shell\n",
        "sudo apt -y update\n",
        "sudo apt install -y wget curl unzip\n",
        "wget http://archive.ubuntu.com/ubuntu/pool/main/libu/libu2f-host/libu2f-udev_1.1.4-1_all.deb\n",
        "dpkg -i libu2f-udev_1.1.4-1_all.deb\n",
        "wget https://dl.google.com/linux/direct/google-chrome-stable_current_amd64.deb\n",
        "dpkg -i google-chrome-stable_current_amd64.deb\n",
        "sudo apt-get install -f"
      ]
    },
    {
      "cell_type": "markdown",
      "source": [
        "INSTALLAZIONE MODULI E PACCHETTI"
      ],
      "metadata": {
        "id": "dzGsehtjJg6n"
      }
    },
    {
      "cell_type": "code",
      "source": [
        "!pip install chromedriver-py\n",
        "!pip install selenium"
      ],
      "metadata": {
        "id": "9DXtREmsTO9o"
      },
      "execution_count": null,
      "outputs": []
    },
    {
      "cell_type": "code",
      "source": [
        "# IMPORT LIBRARIES\n",
        "import sys\n",
        "import logging\n",
        "from selenium.webdriver.remote.remote_connection import LOGGER\n",
        "LOGGER.setLevel(logging.WARNING)\n",
        "sys.path.insert(0,'/usr/lib/chromium-browser/chromedriver')\n",
        "from selenium import webdriver\n",
        "from selenium.webdriver.common.by import By\n",
        "from selenium.webdriver.chrome.service import Service\n",
        "from selenium.common.exceptions import NoSuchElementException, TimeoutException\n",
        "from tqdm.notebook import tqdm\n",
        "import pandas as pd\n",
        "import json\n",
        "import pprint\n",
        "from chromedriver_py import binary_path\n",
        "import time\n",
        "import random"
      ],
      "metadata": {
        "id": "hNUz2eK6TRgT"
      },
      "execution_count": null,
      "outputs": []
    },
    {
      "cell_type": "markdown",
      "source": [
        "SETTING UP THE BROWSER"
      ],
      "metadata": {
        "id": "VRwnuA45Kfe0"
      }
    },
    {
      "cell_type": "code",
      "source": [
        "chrome_options = webdriver.ChromeOptions()  # Initialize Chrome options\n",
        "chrome_options.add_argument('--headless')  # Run Chrome in headless mode - In our local notebook we can remove the `--headless` option.\n",
        "chrome_options.add_argument('--no-sandbox')  # Disable Chrome’s default sandboxing behavior\n",
        "chrome_options.add_argument('--disable-dev-shm-usage')  # Overcome limited resource problems\n",
        "chrome_options.add_argument(\"window-size=1900,800\")  # Set the window size for the browser\n",
        "chrome_options.add_argument(\"user-agent=Mozilla/5.0 (Macintosh; Intel Mac OS X 10_15_7) AppleWebKit/537.36 (KHTML, like Gecko) Chrome/90.0.4430.212 Safari/537.36\")  # Set a custom user agent"
      ],
      "metadata": {
        "id": "NzmbFw0CTUtO"
      },
      "execution_count": null,
      "outputs": []
    },
    {
      "cell_type": "code",
      "source": [
        "service = Service(executable_path=binary_path)  # Create a Service object with the path to the ChromeDriver executable\n",
        "wd = webdriver.Chrome(service=service, options=chrome_options)  # Initialize the WebDriver with the specified service and options"
      ],
      "metadata": {
        "id": "guhAoUauTh-e"
      },
      "execution_count": null,
      "outputs": []
    },
    {
      "cell_type": "markdown",
      "source": [
        "CONNESSIONE AL SITO"
      ],
      "metadata": {
        "id": "uAzMkAhuKpEn"
      }
    },
    {
      "cell_type": "code",
      "source": [
        "wd.get(\"https://www.facebook.com/login/?locale=it_IT\")\n",
        "\n",
        "# Wait for N seconds to allow the page to fully load\n",
        "N = 5\n",
        "time.sleep(N)\n"
      ],
      "metadata": {
        "id": "tVxbmBBMTngj"
      },
      "execution_count": null,
      "outputs": []
    },
    {
      "cell_type": "code",
      "source": [
        "wd.save_screenshot('screenshot.png')\n",
        "\n",
        "import matplotlib.pyplot as plt\n",
        "import matplotlib.image as mpimg\n",
        "\n",
        "img = mpimg.imread('/content/screenshot.png')\n",
        "plt.figure(figsize=(20, 10))\n",
        "imgplot = plt.imshow(img)\n",
        "plt.xticks([])\n",
        "plt.yticks([])\n",
        "plt.show()"
      ],
      "metadata": {
        "id": "waYy74LRTnUD"
      },
      "execution_count": null,
      "outputs": []
    },
    {
      "cell_type": "code",
      "source": [
        "email = wd.find_elements(By.CSS_SELECTOR, \"input.inputtext._55r1.inputtext._1kbt.inputtext._1kbt\")[0]\n",
        "email.send_keys(\"f.bogazzi@campus.unimib.it\")"
      ],
      "metadata": {
        "id": "wOxOKupzUbxN"
      },
      "execution_count": null,
      "outputs": []
    },
    {
      "cell_type": "code",
      "source": [
        "password = wd.find_elements(By.CSS_SELECTOR, \"input.inputtext._55r1.inputtext._9npi.inputtext._9npi\")[0]\n",
        "password.send_keys(\"##############\")"
      ],
      "metadata": {
        "id": "VmSNdt13WhIN"
      },
      "execution_count": null,
      "outputs": []
    },
    {
      "cell_type": "code",
      "source": [
        "from selenium.webdriver.common.keys import Keys\n",
        "email.send_keys(Keys.RETURN)"
      ],
      "metadata": {
        "id": "HGKFEl2UYVYN"
      },
      "execution_count": null,
      "outputs": []
    },
    {
      "cell_type": "code",
      "source": [
        "search = wd.find_elements(By.CSS_SELECTOR, \"input.x1i10hfl.xggy1nq.x1s07b3s.x1kdt53j.x1yc453h.xhb22t3.xb5gni.xcj1dhv.x2s2ed0.xq33zhf.xjyslct.xjbqb8w.xnwf7zb.x40j3uw.x1s7lred.x15gyhx8.x972fbf.xcfux6l.x1qhh985.xm0m39n.x9f619.xzsf02u.xdl72j9.x1iyjqo2.xs83m0k.xjb2p0i.x6prxxf.xeuugli.x1a2a7pz.x1n2onr6.x15h3p50.xm7lytj.x1sxyh0.xdvlbce.xurb0ha.x1vqgdyp.x1xtgk1k.x17hph69.xo6swyp.x1ad04t7.x1glnyev.x1ix68h3.x19gujb8\")[0]\n",
        "search.send_keys(\"#siccità\")"
      ],
      "metadata": {
        "id": "qszMqLDvZmFV"
      },
      "execution_count": null,
      "outputs": []
    },
    {
      "cell_type": "code",
      "source": [
        "search.send_keys(Keys.RETURN)"
      ],
      "metadata": {
        "id": "FijWet5iasAg"
      },
      "execution_count": null,
      "outputs": []
    },
    {
      "cell_type": "markdown",
      "source": [
        "INIZIO SCRAPING"
      ],
      "metadata": {
        "id": "uT4YKbAl2MJ7"
      }
    },
    {
      "cell_type": "code",
      "source": [
        "#imposta se continuare da dove si è fermato. se true ricomincia\n",
        "start_scrape = True\n",
        "if start_scrape == True:\n",
        "  columns = ['count','testo'] #'interazioni']\n",
        "  #Crea un DataFrame vuoto con le colonne definite\n",
        "  df_posts = pd.DataFrame(columns=columns)\n",
        "  wd.execute_script(\"window.scrollTo(0, 0);\")"
      ],
      "metadata": {
        "id": "nnHxIVBsewQ6"
      },
      "execution_count": null,
      "outputs": []
    },
    {
      "cell_type": "code",
      "source": [
        "# SCRAPING\n",
        "post_reel = wd.find_elements(By.CSS_SELECTOR, \"div.x1yztbdb.x1n2onr6.xh8yej3.x1ja2u2z\")\n",
        "\n",
        "post_reel_saved = set()\n",
        "insert_has_done = True\n",
        "num_attempt = 0\n",
        "count = 0\n",
        "\n",
        "while insert_has_done == True or num_attempt == 1:\n",
        "  insert_has_done = False\n",
        "  for post in post_reel:\n",
        "    if post.id not in post_reel_saved:\n",
        "      try:\n",
        "        count += 1\n",
        "        testo = post.find_element(By.CSS_SELECTOR, 'div.xdj266r.x11i5rnm.xat24cr.x1mh8g0r.x1vvkbs.x126k92a').text\n",
        "        #interazioni = post.find_element(By.CSS_SELECTOR, 'div.x1ey2m1c.x78zum5.xds687c.xjkvuk6.x10l6tqk.xni59qk').text\n",
        "        row = [count, testo] #interazioni]\n",
        "        df_posts.loc[len(df_posts)] = row\n",
        "        print(len(df_posts))\n",
        "        insert_has_done = True\n",
        "        num_attempt = 0\n",
        "        post_reel_saved.add(post.id)\n",
        "      except NoSuchElementException:\n",
        "        pass\n",
        "        #print('Pubblicità')\n",
        "        #print('--------------')\n",
        "  if insert_has_done == False:\n",
        "    num_attempt = num_attempt + 1\n",
        "\n",
        "  wd.execute_script(\"window.scrollBy(0, 1000);\")\n",
        "  post_reel = wd.find_elements(By.CSS_SELECTOR, \"div.x1yztbdb.x1n2onr6.xh8yej3.x1ja2u2z\")\n",
        "  random_number = random.uniform(1.5, 3.5)\n",
        "  time.sleep(random_number)\n",
        "\n"
      ],
      "metadata": {
        "id": "H_AvBLO2NR2r"
      },
      "execution_count": null,
      "outputs": []
    },
    {
      "cell_type": "code",
      "source": [
        "df_posts"
      ],
      "metadata": {
        "id": "cemzjaul8vdb"
      },
      "execution_count": null,
      "outputs": []
    }
  ]
}