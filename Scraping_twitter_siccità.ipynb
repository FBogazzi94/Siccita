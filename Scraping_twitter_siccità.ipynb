{
  "cells": [
    {
      "cell_type": "code",
      "execution_count": null,
      "metadata": {
        "colab": {
          "base_uri": "https://localhost:8080/"
        },
        "id": "4PFKLOBM2c8P",
        "outputId": "a58bf56a-b43e-4d5a-e88e-55274a4f161e"
      },
      "outputs": [
        {
          "output_type": "stream",
          "name": "stdout",
          "text": [
            "Collecting selenium\n",
            "  Downloading selenium-4.24.0-py3-none-any.whl.metadata (7.1 kB)\n",
            "Requirement already satisfied: urllib3<3,>=1.26 in /usr/local/lib/python3.10/dist-packages (from urllib3[socks]<3,>=1.26->selenium) (2.0.7)\n",
            "Collecting trio~=0.17 (from selenium)\n",
            "  Downloading trio-0.26.2-py3-none-any.whl.metadata (8.6 kB)\n",
            "Collecting trio-websocket~=0.9 (from selenium)\n",
            "  Downloading trio_websocket-0.11.1-py3-none-any.whl.metadata (4.7 kB)\n",
            "Requirement already satisfied: certifi>=2021.10.8 in /usr/local/lib/python3.10/dist-packages (from selenium) (2024.7.4)\n",
            "Requirement already satisfied: typing_extensions~=4.9 in /usr/local/lib/python3.10/dist-packages (from selenium) (4.12.2)\n",
            "Requirement already satisfied: websocket-client~=1.8 in /usr/local/lib/python3.10/dist-packages (from selenium) (1.8.0)\n",
            "Requirement already satisfied: attrs>=23.2.0 in /usr/local/lib/python3.10/dist-packages (from trio~=0.17->selenium) (24.2.0)\n",
            "Requirement already satisfied: sortedcontainers in /usr/local/lib/python3.10/dist-packages (from trio~=0.17->selenium) (2.4.0)\n",
            "Requirement already satisfied: idna in /usr/local/lib/python3.10/dist-packages (from trio~=0.17->selenium) (3.8)\n",
            "Collecting outcome (from trio~=0.17->selenium)\n",
            "  Downloading outcome-1.3.0.post0-py2.py3-none-any.whl.metadata (2.6 kB)\n",
            "Requirement already satisfied: sniffio>=1.3.0 in /usr/local/lib/python3.10/dist-packages (from trio~=0.17->selenium) (1.3.1)\n",
            "Requirement already satisfied: exceptiongroup in /usr/local/lib/python3.10/dist-packages (from trio~=0.17->selenium) (1.2.2)\n",
            "Collecting wsproto>=0.14 (from trio-websocket~=0.9->selenium)\n",
            "  Downloading wsproto-1.2.0-py3-none-any.whl.metadata (5.6 kB)\n",
            "Requirement already satisfied: pysocks!=1.5.7,<2.0,>=1.5.6 in /usr/local/lib/python3.10/dist-packages (from urllib3[socks]<3,>=1.26->selenium) (1.7.1)\n",
            "Collecting h11<1,>=0.9.0 (from wsproto>=0.14->trio-websocket~=0.9->selenium)\n",
            "  Downloading h11-0.14.0-py3-none-any.whl.metadata (8.2 kB)\n",
            "Downloading selenium-4.24.0-py3-none-any.whl (9.6 MB)\n",
            "\u001b[2K   \u001b[90m━━━━━━━━━━━━━━━━━━━━━━━━━━━━━━━━━━━━━━━━\u001b[0m \u001b[32m9.6/9.6 MB\u001b[0m \u001b[31m21.6 MB/s\u001b[0m eta \u001b[36m0:00:00\u001b[0m\n",
            "\u001b[?25hDownloading trio-0.26.2-py3-none-any.whl (475 kB)\n",
            "\u001b[2K   \u001b[90m━━━━━━━━━━━━━━━━━━━━━━━━━━━━━━━━━━━━━━━━\u001b[0m \u001b[32m476.0/476.0 kB\u001b[0m \u001b[31m20.2 MB/s\u001b[0m eta \u001b[36m0:00:00\u001b[0m\n",
            "\u001b[?25hDownloading trio_websocket-0.11.1-py3-none-any.whl (17 kB)\n",
            "Downloading wsproto-1.2.0-py3-none-any.whl (24 kB)\n",
            "Downloading outcome-1.3.0.post0-py2.py3-none-any.whl (10 kB)\n",
            "Downloading h11-0.14.0-py3-none-any.whl (58 kB)\n",
            "\u001b[2K   \u001b[90m━━━━━━━━━━━━━━━━━━━━━━━━━━━━━━━━━━━━━━━━\u001b[0m \u001b[32m58.3/58.3 kB\u001b[0m \u001b[31m2.5 MB/s\u001b[0m eta \u001b[36m0:00:00\u001b[0m\n",
            "\u001b[?25hInstalling collected packages: outcome, h11, wsproto, trio, trio-websocket, selenium\n",
            "Successfully installed h11-0.14.0 outcome-1.3.0.post0 selenium-4.24.0 trio-0.26.2 trio-websocket-0.11.1 wsproto-1.2.0\n"
          ]
        }
      ],
      "source": [
        "pip install selenium"
      ]
    },
    {
      "cell_type": "code",
      "execution_count": null,
      "metadata": {
        "colab": {
          "base_uri": "https://localhost:8080/"
        },
        "id": "D40rJndH5Sx1",
        "outputId": "220d75d2-0948-4b6d-cf5a-34f0fdc0b71f"
      },
      "outputs": [
        {
          "output_type": "stream",
          "name": "stdout",
          "text": [
            "Collecting chromedriver_py\n",
            "  Downloading chromedriver_py-128.0.6613.86-py3-none-any.whl.metadata (1.8 kB)\n",
            "Downloading chromedriver_py-128.0.6613.86-py3-none-any.whl (44.4 MB)\n",
            "\u001b[2K   \u001b[90m━━━━━━━━━━━━━━━━━━━━━━━━━━━━━━━━━━━━━━━━\u001b[0m \u001b[32m44.4/44.4 MB\u001b[0m \u001b[31m13.5 MB/s\u001b[0m eta \u001b[36m0:00:00\u001b[0m\n",
            "\u001b[?25hInstalling collected packages: chromedriver_py\n",
            "Successfully installed chromedriver_py-128.0.6613.86\n"
          ]
        }
      ],
      "source": [
        "pip install chromedriver_py"
      ]
    },
    {
      "cell_type": "code",
      "execution_count": null,
      "metadata": {
        "colab": {
          "base_uri": "https://localhost:8080/"
        },
        "id": "5Yr3m9dvF38D",
        "outputId": "3cbc7445-50dc-4c40-ecc5-0475bd2579f7"
      },
      "outputs": [
        {
          "output_type": "stream",
          "name": "stdout",
          "text": [
            "\u001b[33m\r0% [Working]\u001b[0m\r            \rHit:1 http://archive.ubuntu.com/ubuntu jammy InRelease\n",
            "Get:2 http://archive.ubuntu.com/ubuntu jammy-updates InRelease [128 kB]\n",
            "Hit:3 http://archive.ubuntu.com/ubuntu jammy-backports InRelease\n",
            "Get:4 http://security.ubuntu.com/ubuntu jammy-security InRelease [129 kB]\n",
            "Get:5 https://cloud.r-project.org/bin/linux/ubuntu jammy-cran40/ InRelease [3,626 B]\n",
            "Get:6 https://developer.download.nvidia.com/compute/cuda/repos/ubuntu2204/x86_64  InRelease [1,581 B]\n",
            "Ign:7 https://r2u.stat.illinois.edu/ubuntu jammy InRelease\n",
            "Get:8 https://r2u.stat.illinois.edu/ubuntu jammy Release [5,713 B]\n",
            "Get:9 https://r2u.stat.illinois.edu/ubuntu jammy Release.gpg [793 B]\n",
            "Hit:10 https://ppa.launchpadcontent.net/deadsnakes/ppa/ubuntu jammy InRelease\n",
            "Get:11 https://ppa.launchpadcontent.net/graphics-drivers/ppa/ubuntu jammy InRelease [24.3 kB]\n",
            "Hit:12 https://ppa.launchpadcontent.net/ubuntugis/ppa/ubuntu jammy InRelease\n",
            "Get:13 http://archive.ubuntu.com/ubuntu jammy-updates/main amd64 Packages [2,498 kB]\n",
            "Get:14 http://archive.ubuntu.com/ubuntu jammy-updates/universe amd64 Packages [1,425 kB]\n",
            "Get:15 https://developer.download.nvidia.com/compute/cuda/repos/ubuntu2204/x86_64  Packages [962 kB]\n",
            "Get:16 https://r2u.stat.illinois.edu/ubuntu jammy/main all Packages [8,261 kB]\n",
            "Get:17 https://r2u.stat.illinois.edu/ubuntu jammy/main amd64 Packages [2,561 kB]\n",
            "Get:18 https://ppa.launchpadcontent.net/graphics-drivers/ppa/ubuntu jammy/main amd64 Packages [53.3 kB]\n",
            "Fetched 16.1 MB in 5s (3,010 kB/s)\n",
            "Reading package lists... Done\n",
            "Building dependency tree... Done\n",
            "Reading state information... Done\n",
            "50 packages can be upgraded. Run 'apt list --upgradable' to see them.\n",
            "\u001b[1;33mW: \u001b[0mSkipping acquire of configured file 'main/source/Sources' as repository 'https://r2u.stat.illinois.edu/ubuntu jammy InRelease' does not seem to provide it (sources.list entry misspelt?)\u001b[0m\n",
            "Reading package lists... Done\n",
            "Building dependency tree... Done\n",
            "Reading state information... Done\n",
            "curl is already the newest version (7.81.0-1ubuntu1.17).\n",
            "unzip is already the newest version (6.0-26ubuntu3.2).\n",
            "wget is already the newest version (1.21.2-2ubuntu1.1).\n",
            "0 upgraded, 0 newly installed, 0 to remove and 50 not upgraded.\n",
            "--2024-08-31 20:05:15--  http://archive.ubuntu.com/ubuntu/pool/main/libu/libu2f-host/libu2f-udev_1.1.4-1_all.deb\n",
            "Resolving archive.ubuntu.com (archive.ubuntu.com)... 91.189.91.81, 185.125.190.82, 185.125.190.81, ...\n",
            "Connecting to archive.ubuntu.com (archive.ubuntu.com)|91.189.91.81|:80... connected.\n",
            "HTTP request sent, awaiting response... 200 OK\n",
            "Length: 3708 (3.6K) [application/vnd.debian.binary-package]\n",
            "Saving to: ‘libu2f-udev_1.1.4-1_all.deb’\n",
            "\n",
            "libu2f-udev_1.1.4-1 100%[===================>]   3.62K  --.-KB/s    in 0s      \n",
            "\n",
            "2024-08-31 20:05:15 (333 MB/s) - ‘libu2f-udev_1.1.4-1_all.deb’ saved [3708/3708]\n",
            "\n",
            "Selecting previously unselected package libu2f-udev.\n",
            "(Reading database ... 123597 files and directories currently installed.)\n",
            "Preparing to unpack libu2f-udev_1.1.4-1_all.deb ...\n",
            "Unpacking libu2f-udev (1.1.4-1) ...\n",
            "Setting up libu2f-udev (1.1.4-1) ...\n",
            "--2024-08-31 20:05:16--  https://dl.google.com/linux/direct/google-chrome-stable_current_amd64.deb\n",
            "Resolving dl.google.com (dl.google.com)... 172.253.63.91, 172.253.63.136, 172.253.63.93, ...\n",
            "Connecting to dl.google.com (dl.google.com)|172.253.63.91|:443... connected.\n",
            "HTTP request sent, awaiting response... 200 OK\n",
            "Length: 110831940 (106M) [application/x-debian-package]\n",
            "Saving to: ‘google-chrome-stable_current_amd64.deb’\n",
            "\n",
            "google-chrome-stabl 100%[===================>] 105.70M   292MB/s    in 0.4s    \n",
            "\n",
            "2024-08-31 20:05:17 (292 MB/s) - ‘google-chrome-stable_current_amd64.deb’ saved [110831940/110831940]\n",
            "\n",
            "Selecting previously unselected package google-chrome-stable.\n",
            "(Reading database ... 123601 files and directories currently installed.)\n",
            "Preparing to unpack google-chrome-stable_current_amd64.deb ...\n",
            "Unpacking google-chrome-stable (128.0.6613.113-1) ...\n",
            "\u001b[1mdpkg:\u001b[0m dependency problems prevent configuration of google-chrome-stable:\n",
            " google-chrome-stable depends on libvulkan1; however:\n",
            "  Package libvulkan1 is not installed.\n",
            "\n",
            "\u001b[1mdpkg:\u001b[0m error processing package google-chrome-stable (--install):\n",
            " dependency problems - leaving unconfigured\n",
            "Processing triggers for man-db (2.10.2-1) ...\n",
            "Errors were encountered while processing:\n",
            " google-chrome-stable\n",
            "Reading package lists... Done\n",
            "Building dependency tree... Done\n",
            "Reading state information... Done\n",
            "Correcting dependencies... Done\n",
            "The following additional packages will be installed:\n",
            "  libvulkan1 mesa-vulkan-drivers\n",
            "The following NEW packages will be installed:\n",
            "  libvulkan1 mesa-vulkan-drivers\n",
            "0 upgraded, 2 newly installed, 0 to remove and 51 not upgraded.\n",
            "1 not fully installed or removed.\n",
            "Need to get 10.9 MB of archives.\n",
            "After this operation, 51.3 MB of additional disk space will be used.\n",
            "Get:1 http://archive.ubuntu.com/ubuntu jammy/main amd64 libvulkan1 amd64 1.3.204.1-2 [128 kB]\n",
            "Get:2 http://archive.ubuntu.com/ubuntu jammy-updates/main amd64 mesa-vulkan-drivers amd64 23.2.1-1ubuntu3.1~22.04.2 [10.7 MB]\n",
            "Fetched 10.9 MB in 1s (9,767 kB/s)\n",
            "debconf: unable to initialize frontend: Dialog\n",
            "debconf: (No usable dialog-like program is installed, so the dialog based frontend cannot be used. at /usr/share/perl5/Debconf/FrontEnd/Dialog.pm line 78, <> line 2.)\n",
            "debconf: falling back to frontend: Readline\n",
            "debconf: unable to initialize frontend: Readline\n",
            "debconf: (This frontend requires a controlling tty.)\n",
            "debconf: falling back to frontend: Teletype\n",
            "dpkg-preconfigure: unable to re-open stdin: \n",
            "Selecting previously unselected package libvulkan1:amd64.\n",
            "(Reading database ... 123718 files and directories currently installed.)\n",
            "Preparing to unpack .../libvulkan1_1.3.204.1-2_amd64.deb ...\n",
            "Unpacking libvulkan1:amd64 (1.3.204.1-2) ...\n",
            "Selecting previously unselected package mesa-vulkan-drivers:amd64.\n",
            "Preparing to unpack .../mesa-vulkan-drivers_23.2.1-1ubuntu3.1~22.04.2_amd64.deb ...\n",
            "Unpacking mesa-vulkan-drivers:amd64 (23.2.1-1ubuntu3.1~22.04.2) ...\n",
            "Setting up libvulkan1:amd64 (1.3.204.1-2) ...\n",
            "Setting up mesa-vulkan-drivers:amd64 (23.2.1-1ubuntu3.1~22.04.2) ...\n",
            "Setting up google-chrome-stable (128.0.6613.113-1) ...\n",
            "update-alternatives: using /usr/bin/google-chrome-stable to provide /usr/bin/x-www-browser (x-www-browser) in auto mode\n",
            "update-alternatives: using /usr/bin/google-chrome-stable to provide /usr/bin/gnome-www-browser (gnome-www-browser) in auto mode\n",
            "update-alternatives: using /usr/bin/google-chrome-stable to provide /usr/bin/google-chrome (google-chrome) in auto mode\n",
            "Processing triggers for libc-bin (2.35-0ubuntu3.4) ...\n",
            "/sbin/ldconfig.real: /usr/local/lib/libur_loader.so.0 is not a symbolic link\n",
            "\n",
            "/sbin/ldconfig.real: /usr/local/lib/libtbbmalloc_proxy.so.2 is not a symbolic link\n",
            "\n",
            "/sbin/ldconfig.real: /usr/local/lib/libtbbbind.so.3 is not a symbolic link\n",
            "\n",
            "/sbin/ldconfig.real: /usr/local/lib/libtbbbind_2_0.so.3 is not a symbolic link\n",
            "\n",
            "/sbin/ldconfig.real: /usr/local/lib/libur_adapter_level_zero.so.0 is not a symbolic link\n",
            "\n",
            "/sbin/ldconfig.real: /usr/local/lib/libtbbmalloc.so.2 is not a symbolic link\n",
            "\n",
            "/sbin/ldconfig.real: /usr/local/lib/libtbb.so.12 is not a symbolic link\n",
            "\n",
            "/sbin/ldconfig.real: /usr/local/lib/libur_adapter_opencl.so.0 is not a symbolic link\n",
            "\n",
            "/sbin/ldconfig.real: /usr/local/lib/libtbbbind_2_5.so.3 is not a symbolic link\n",
            "\n"
          ]
        },
        {
          "output_type": "execute_result",
          "data": {
            "text/plain": []
          },
          "metadata": {},
          "execution_count": 3
        }
      ],
      "source": [
        "%%shell\n",
        "sudo apt -y update\n",
        "sudo apt install -y wget curl unzip\n",
        "wget http://archive.ubuntu.com/ubuntu/pool/main/libu/libu2f-host/libu2f-udev_1.1.4-1_all.deb\n",
        "dpkg -i libu2f-udev_1.1.4-1_all.deb\n",
        "wget https://dl.google.com/linux/direct/google-chrome-stable_current_amd64.deb\n",
        "dpkg -i google-chrome-stable_current_amd64.deb\n",
        "sudo apt-get install -f"
      ]
    },
    {
      "cell_type": "code",
      "execution_count": null,
      "metadata": {
        "id": "NDPGoHxP_94J"
      },
      "outputs": [],
      "source": [
        "import pandas as pd\n",
        "import selenium\n",
        "import pprint\n",
        "import time"
      ]
    },
    {
      "cell_type": "code",
      "execution_count": null,
      "metadata": {
        "id": "1xwEUQXfAgHA"
      },
      "outputs": [],
      "source": [
        "import sys\n",
        "import logging\n",
        "from selenium.webdriver.remote.remote_connection import LOGGER\n",
        "LOGGER.setLevel(logging.WARNING)\n",
        "sys.path.insert(0,'/usr/lib/chromium-browser/chromedriver')\n",
        "from selenium import webdriver\n",
        "from selenium.webdriver.common.by import By\n",
        "from selenium.webdriver.chrome.service import Service\n",
        "from tqdm.notebook import tqdm\n",
        "import pandas\n",
        "import json\n",
        "import pprint\n",
        "from chromedriver_py import binary_path"
      ]
    },
    {
      "cell_type": "code",
      "execution_count": null,
      "metadata": {
        "id": "opzUEIkSBN3S"
      },
      "outputs": [],
      "source": [
        "chrome_options = webdriver.ChromeOptions()  # Initialize Chrome options\n",
        "chrome_options.add_argument('--headless')  # Run Chrome in headless mode - In our local notebook we can remove the `--headless` option.\n",
        "chrome_options.add_argument('--no-sandbox')  # Disable Chrome’s default sandboxing behavior\n",
        "chrome_options.add_argument('--disable-dev-shm-usage')  # Overcome limited resource problems\n",
        "chrome_options.add_argument(\"window-size=1900,800\")  # Set the window size for the browser\n",
        "chrome_options.add_argument(\"user-agent=Mozilla/5.0 (Macintosh; Intel Mac OS X 10_15_7) AppleWebKit/537.36 (KHTML, like Gecko) Chrome/90.0.4430.212 Safari/537.36\")  # Set a custom user agent"
      ]
    },
    {
      "cell_type": "code",
      "execution_count": null,
      "metadata": {
        "id": "r5wW_UOpFOVh"
      },
      "outputs": [],
      "source": [
        "service = Service(executable_path=binary_path)  # Create a Service object with the path to the ChromeDriver executable\n",
        "wd = webdriver.Chrome(service=service, options=chrome_options)  # Initialize the WebDriver with the specified service and options"
      ]
    },
    {
      "cell_type": "code",
      "source": [
        "def show_page():\n",
        "  # test per vedere dove sono al momento\n",
        "  wd.save_screenshot('screenshot.png')\n",
        "\n",
        "  import matplotlib.pyplot as plt\n",
        "  import matplotlib.image as mpimg\n",
        "\n",
        "  img = mpimg.imread('/content/screenshot.png')\n",
        "  plt.figure(figsize=(20, 10))\n",
        "  imgplot = plt.imshow(img)\n",
        "  plt.xticks([])\n",
        "  plt.yticks([])\n",
        "  plt.show()"
      ],
      "metadata": {
        "id": "nTa0qFvFPbyg"
      },
      "execution_count": null,
      "outputs": []
    },
    {
      "cell_type": "code",
      "source": [
        "def back_to_top_page():\n",
        "  wd.execute_script(\"window.scrollTo(0, 0);\")\n",
        "  show_page()"
      ],
      "metadata": {
        "id": "K0ijn2JOPhBd"
      },
      "execution_count": null,
      "outputs": []
    },
    {
      "cell_type": "code",
      "source": [
        "def read_post(post):\n",
        "  body = post.find_element(By.CSS_SELECTOR, 'div.css-146c3p1.r-8akbws.r-krxsd3.r-dnmrzs.r-1udh08x.r-bcqeeo.r-1ttztb7.r-qvutc0.r-37j5jr.r-a023e6.r-rjixqe.r-16dba41.r-bnwqim').text\n",
        "  count_comments = post.find_elements(By.CSS_SELECTOR, 'div.css-175oi2r.r-xoduu5.r-1udh08x')[0].text\n",
        "  count_retweets = post.find_elements(By.CSS_SELECTOR, 'div.css-175oi2r.r-xoduu5.r-1udh08x')[1].text\n",
        "  count_likes = post.find_elements(By.CSS_SELECTOR, 'div.css-175oi2r.r-xoduu5.r-1udh08x')[2].text\n",
        "  count_views = post.find_elements(By.CSS_SELECTOR, 'div.css-175oi2r.r-xoduu5.r-1udh08x')[3].text\n",
        "  print(body)\n",
        "  print('--------------')"
      ],
      "metadata": {
        "id": "fBJjnAKlPm-D"
      },
      "execution_count": null,
      "outputs": []
    },
    {
      "cell_type": "code",
      "execution_count": null,
      "metadata": {
        "id": "0S4ZXkm6EBfh"
      },
      "outputs": [],
      "source": [
        "#tweet siccità da 2023-01-01 a 2024-08-26\n",
        "x_page = 'https://x.com/search?q=siccit%C3%A0%20until%3A2023-02-15%20since%3A2023-01-01&src=typed_query&f=live'"
      ]
    },
    {
      "cell_type": "code",
      "execution_count": null,
      "metadata": {
        "id": "UpnoMCweGkH8"
      },
      "outputs": [],
      "source": [
        "#open login page\n",
        "wd.get(x_page)"
      ]
    },
    {
      "cell_type": "code",
      "source": [
        "show_page()"
      ],
      "metadata": {
        "id": "JO03rY83nAtq"
      },
      "execution_count": null,
      "outputs": []
    },
    {
      "cell_type": "code",
      "execution_count": null,
      "metadata": {
        "id": "4EtXt-41HzFu"
      },
      "outputs": [],
      "source": [
        "#input email\n",
        "from selenium.webdriver.common.keys import Keys\n",
        "\n",
        "inputbox = wd.find_elements(By.CSS_SELECTOR, \"input.r-30o5oe.r-1dz5y72.r-13qz1uu.r-1niwhzg.r-17gur6a.r-1yadl64.r-deolkf.r-homxoj.r-poiln3.r-7cikom.r-1ny4l3l.r-t60dpp.r-fdjqy7\")[0]\n",
        "inputbox.clear()\n",
        "inputbox.send_keys('f.bogazzi@campus.unimib.it')\n",
        "inputbox.send_keys(Keys.RETURN)"
      ]
    },
    {
      "cell_type": "code",
      "source": [
        "#check if X detected an unusual activity\n",
        "if wd.find_elements(By.CSS_SELECTOR, \"h1.css-146c3p1.r-bcqeeo.r-1ttztb7.r-qvutc0.r-37j5jr.r-1yjpyg1.r-ueyrd6.r-b88u0q\")[0].text == 'Enter your phone number or username':\n",
        "  userbox = wd.find_elements(By.CSS_SELECTOR, \"input.r-30o5oe.r-1dz5y72.r-13qz1uu.r-1niwhzg.r-17gur6a.r-1yadl64.r-deolkf.r-homxoj.r-poiln3.r-7cikom.r-1ny4l3l.r-t60dpp.r-fdjqy7\")[0]\n",
        "  userbox.send_keys('Francesco')\n",
        "  userbox.send_keys(Keys.RETURN)"
      ],
      "metadata": {
        "id": "73yw0h3CIr6Y"
      },
      "execution_count": null,
      "outputs": []
    },
    {
      "cell_type": "code",
      "source": [
        "#input password\n",
        "passbox = wd.find_elements(By.CSS_SELECTOR, \"input.r-30o5oe.r-1dz5y72.r-13qz1uu.r-1niwhzg.r-17gur6a.r-1yadl64.r-deolkf.r-homxoj.r-poiln3.r-7cikom.r-1ny4l3l.r-t60dpp.r-fdjqy7\")[0]\n",
        "passbox.send_keys('################')\n",
        "passbox.send_keys(Keys.RETURN)"
      ],
      "metadata": {
        "id": "RR2OQ8GoI6Dr"
      },
      "execution_count": null,
      "outputs": []
    },
    {
      "cell_type": "code",
      "execution_count": null,
      "metadata": {
        "id": "QVXU5keyhmaK",
        "collapsed": true
      },
      "outputs": [],
      "source": [
        "#input codice di sicurezza\n",
        "codesecure = wd.find_elements(By.CSS_SELECTOR, \"input.r-30o5oe.r-1dz5y72.r-13qz1uu.r-1niwhzg.r-17gur6a.r-1yadl64.r-deolkf.r-homxoj.r-poiln3.r-7cikom.r-1ny4l3l.r-t60dpp.r-fdjqy7\")[0]\n",
        "codesecure.clear()\n",
        "codesecure.send_keys('sgi5fg7a')\n",
        "codesecure.send_keys(Keys.RETURN)"
      ]
    },
    {
      "cell_type": "code",
      "source": [
        "show_page()"
      ],
      "metadata": {
        "id": "BpQP_xqjPKmw"
      },
      "execution_count": null,
      "outputs": []
    },
    {
      "cell_type": "code",
      "execution_count": null,
      "metadata": {
        "id": "VNPhCv8T-GTR"
      },
      "outputs": [],
      "source": [
        "from selenium.common.exceptions import NoSuchElementException\n",
        "from selenium.common.exceptions import StaleElementReferenceException\n",
        "\n",
        "import random\n",
        "\n",
        "#imposta se continuare da dove si è fermato. se true ricomincia\n",
        "start_scrape = True\n",
        "if start_scrape == True:\n",
        "  columns = ['body', 'date', 'count_comments', 'count_retweets', 'count_likes', 'count_views']\n",
        "  #Crea un DataFrame vuoto con le colonne definite\n",
        "  df_tweets = pd.DataFrame(columns=columns)\n",
        "  wd.execute_script(\"window.scrollTo(0, 0);\")\n",
        "\n",
        "#wd.execute_script(\"window.scrollTo(0, 0);\")\n",
        "\n",
        "posts = wd.find_elements(By.CSS_SELECTOR, 'div.css-175oi2r.r-1igl3o0.r-qklmqi.r-1adg3ll.r-1ny4l3l')\n",
        "post_saved = set()\n",
        "insert_has_done = True\n",
        "num_attempt = 0\n",
        "id = 0\n",
        "\n",
        "while insert_has_done == True or num_attempt == 1:\n",
        "  insert_has_done = False\n",
        "  for post in posts:\n",
        "    if post.id not in post_saved:\n",
        "      try:\n",
        "        body = post.find_element(By.CSS_SELECTOR, 'div.css-146c3p1.r-8akbws.r-krxsd3.r-dnmrzs.r-1udh08x.r-bcqeeo.r-1ttztb7.r-qvutc0.r-37j5jr.r-a023e6.r-rjixqe.r-16dba41.r-bnwqim').text\n",
        "        date = post.find_element(By.CSS_SELECTOR, 'div.css-175oi2r.r-18u37iz.r-1q142lx').text\n",
        "        count_comments = post.find_elements(By.CSS_SELECTOR, 'div.css-175oi2r.r-xoduu5.r-1udh08x')[0].text\n",
        "        count_retweets = post.find_elements(By.CSS_SELECTOR, 'div.css-175oi2r.r-xoduu5.r-1udh08x')[1].text\n",
        "        count_likes = post.find_elements(By.CSS_SELECTOR, 'div.css-175oi2r.r-xoduu5.r-1udh08x')[2].text\n",
        "        try:\n",
        "          count_views = post.find_elements(By.CSS_SELECTOR, 'div.css-175oi2r.r-xoduu5.r-1udh08x')[3].text\n",
        "        except IndexError:\n",
        "          count_views = None\n",
        "        row = [body, date, count_comments, count_retweets, count_likes, count_views]\n",
        "        df_tweets.loc[len(df_tweets)] = row\n",
        "        print(len(df_tweets))\n",
        "        insert_has_done = True\n",
        "        num_attempt = 0\n",
        "        post_saved.add(post.id)\n",
        "      except NoSuchElementException:\n",
        "        pass\n",
        "        #print('Pubblicità')\n",
        "        #print('--------------')\n",
        "      except StaleElementReferenceException:\n",
        "        pass\n",
        "        print('Stale')\n",
        "  if insert_has_done == False:\n",
        "    num_attempt = num_attempt + 1\n",
        "\n",
        "  wd.execute_script(\"window.scrollBy(0, 1000);\")\n",
        "  posts = wd.find_elements(By.CSS_SELECTOR, 'div.css-175oi2r.r-1igl3o0.r-qklmqi.r-1adg3ll.r-1ny4l3l')\n",
        "  random_number = random.uniform(1,2)\n",
        "  time.sleep(random_number)\n",
        "\n",
        "show_page()"
      ]
    },
    {
      "cell_type": "code",
      "source": [
        "df_tweets\n"
      ],
      "metadata": {
        "id": "rvK3MsScTDLU"
      },
      "execution_count": null,
      "outputs": []
    },
    {
      "cell_type": "code",
      "source": [
        "df_tweets.to_excel('10tweets_siccita_2023(14apr_3feb).xlsx', index=False)"
      ],
      "metadata": {
        "id": "QZC0DlGDVF9C"
      },
      "execution_count": null,
      "outputs": []
    }
  ],
  "metadata": {
    "colab": {
      "provenance": []
    },
    "kernelspec": {
      "display_name": "Python 3",
      "name": "python3"
    },
    "language_info": {
      "name": "python"
    }
  },
  "nbformat": 4,
  "nbformat_minor": 0
}